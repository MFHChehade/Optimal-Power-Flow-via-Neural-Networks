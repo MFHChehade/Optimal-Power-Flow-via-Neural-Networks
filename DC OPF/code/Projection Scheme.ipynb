{
 "cells": [
  {
   "cell_type": "markdown",
   "id": "f4e872a9",
   "metadata": {},
   "source": [
    "### Libraries"
   ]
  },
  {
   "cell_type": "code",
   "execution_count": 1,
   "id": "9a9ffa8e",
   "metadata": {},
   "outputs": [],
   "source": [
    "import numpy as np\n",
    "import pulp as pl\n",
    "import pandas as pd "
   ]
  },
  {
   "cell_type": "markdown",
   "id": "d90a6919",
   "metadata": {},
   "source": [
    "# Specify the Power Network"
   ]
  },
  {
   "cell_type": "code",
   "execution_count": 2,
   "id": "8334c2cc",
   "metadata": {},
   "outputs": [],
   "source": [
    "n = 9 # number of nodes \n",
    "\n",
    "nodes = range(n) # enumerates all nodes "
   ]
  },
  {
   "cell_type": "code",
   "execution_count": 3,
   "id": "f6061355",
   "metadata": {},
   "outputs": [],
   "source": [
    "network_name = \"ieee\" + str(n)\n",
    "filename = network_name + \".xlsx\""
   ]
  },
  {
   "cell_type": "markdown",
   "id": "8646d395",
   "metadata": {},
   "source": [
    "# Read NN Data"
   ]
  },
  {
   "cell_type": "code",
   "execution_count": 4,
   "id": "e2f3eea7",
   "metadata": {},
   "outputs": [],
   "source": [
    "# get a given instance \n",
    "\n",
    "PD1 = 90\n",
    "PD2 = 100\n",
    "PD3 = 125\n",
    "\n",
    "PD = [PD1,PD2,PD3]\n",
    "\n",
    "\n",
    "# neural network solution\n",
    "\n",
    "PG1 = 86.56 \n",
    "PG2 = 134.38*2\n",
    "PG3 = 94.06\n",
    "\n",
    "PG = [PG1,PG2,PG3]"
   ]
  },
  {
   "cell_type": "markdown",
   "id": "cbde022f",
   "metadata": {},
   "source": [
    "# Network Data"
   ]
  },
  {
   "cell_type": "markdown",
   "id": "53453e90",
   "metadata": {},
   "source": [
    "## Bus Data"
   ]
  },
  {
   "cell_type": "code",
   "execution_count": 5,
   "id": "971a3756",
   "metadata": {},
   "outputs": [
    {
     "data": {
      "text/html": [
       "<div>\n",
       "<style scoped>\n",
       "    .dataframe tbody tr th:only-of-type {\n",
       "        vertical-align: middle;\n",
       "    }\n",
       "\n",
       "    .dataframe tbody tr th {\n",
       "        vertical-align: top;\n",
       "    }\n",
       "\n",
       "    .dataframe thead th {\n",
       "        text-align: right;\n",
       "    }\n",
       "</style>\n",
       "<table border=\"1\" class=\"dataframe\">\n",
       "  <thead>\n",
       "    <tr style=\"text-align: right;\">\n",
       "      <th></th>\n",
       "      <th>bus</th>\n",
       "      <th>type</th>\n",
       "      <th>Pd</th>\n",
       "      <th>Qd</th>\n",
       "      <th>Gs</th>\n",
       "      <th>Bs</th>\n",
       "      <th>area</th>\n",
       "      <th>Vm</th>\n",
       "      <th>Va</th>\n",
       "      <th>baseKV</th>\n",
       "      <th>zone</th>\n",
       "      <th>Vmax</th>\n",
       "      <th>Vmin</th>\n",
       "    </tr>\n",
       "  </thead>\n",
       "  <tbody>\n",
       "    <tr>\n",
       "      <th>0</th>\n",
       "      <td>0</td>\n",
       "      <td>3</td>\n",
       "      <td>0</td>\n",
       "      <td>0</td>\n",
       "      <td>0</td>\n",
       "      <td>0</td>\n",
       "      <td>1</td>\n",
       "      <td>1</td>\n",
       "      <td>0</td>\n",
       "      <td>345</td>\n",
       "      <td>1</td>\n",
       "      <td>1.1</td>\n",
       "      <td>0.9</td>\n",
       "    </tr>\n",
       "    <tr>\n",
       "      <th>1</th>\n",
       "      <td>1</td>\n",
       "      <td>2</td>\n",
       "      <td>0</td>\n",
       "      <td>0</td>\n",
       "      <td>0</td>\n",
       "      <td>0</td>\n",
       "      <td>1</td>\n",
       "      <td>1</td>\n",
       "      <td>0</td>\n",
       "      <td>345</td>\n",
       "      <td>1</td>\n",
       "      <td>1.1</td>\n",
       "      <td>0.9</td>\n",
       "    </tr>\n",
       "    <tr>\n",
       "      <th>2</th>\n",
       "      <td>2</td>\n",
       "      <td>2</td>\n",
       "      <td>0</td>\n",
       "      <td>0</td>\n",
       "      <td>0</td>\n",
       "      <td>0</td>\n",
       "      <td>1</td>\n",
       "      <td>1</td>\n",
       "      <td>0</td>\n",
       "      <td>345</td>\n",
       "      <td>1</td>\n",
       "      <td>1.1</td>\n",
       "      <td>0.9</td>\n",
       "    </tr>\n",
       "    <tr>\n",
       "      <th>3</th>\n",
       "      <td>3</td>\n",
       "      <td>1</td>\n",
       "      <td>0</td>\n",
       "      <td>0</td>\n",
       "      <td>0</td>\n",
       "      <td>0</td>\n",
       "      <td>1</td>\n",
       "      <td>1</td>\n",
       "      <td>0</td>\n",
       "      <td>345</td>\n",
       "      <td>1</td>\n",
       "      <td>1.1</td>\n",
       "      <td>0.9</td>\n",
       "    </tr>\n",
       "    <tr>\n",
       "      <th>4</th>\n",
       "      <td>4</td>\n",
       "      <td>1</td>\n",
       "      <td>90</td>\n",
       "      <td>30</td>\n",
       "      <td>0</td>\n",
       "      <td>0</td>\n",
       "      <td>1</td>\n",
       "      <td>1</td>\n",
       "      <td>0</td>\n",
       "      <td>345</td>\n",
       "      <td>1</td>\n",
       "      <td>1.1</td>\n",
       "      <td>0.9</td>\n",
       "    </tr>\n",
       "  </tbody>\n",
       "</table>\n",
       "</div>"
      ],
      "text/plain": [
       "   bus  type  Pd  Qd  Gs  Bs  area  Vm  Va  baseKV  zone  Vmax  Vmin\n",
       "0    0     3   0   0   0   0     1   1   0     345     1   1.1   0.9\n",
       "1    1     2   0   0   0   0     1   1   0     345     1   1.1   0.9\n",
       "2    2     2   0   0   0   0     1   1   0     345     1   1.1   0.9\n",
       "3    3     1   0   0   0   0     1   1   0     345     1   1.1   0.9\n",
       "4    4     1  90  30   0   0     1   1   0     345     1   1.1   0.9"
      ]
     },
     "execution_count": 5,
     "metadata": {},
     "output_type": "execute_result"
    }
   ],
   "source": [
    "# load bus data\n",
    "\n",
    "bus = pd.read_excel(filename,sheet_name=\"Bus\")\n",
    "\n",
    "bus.head()"
   ]
  },
  {
   "cell_type": "code",
   "execution_count": 6,
   "id": "8e67e7bd",
   "metadata": {},
   "outputs": [],
   "source": [
    "# Demand Nodes\n",
    "\n",
    "D_buses = bus[bus[\"Pd\"] != 0][\"bus\"] "
   ]
  },
  {
   "cell_type": "code",
   "execution_count": 7,
   "id": "480e2693",
   "metadata": {},
   "outputs": [],
   "source": [
    "# stores demand values given to neural network in appropriate node positions\n",
    "\n",
    "P_D = np.zeros(n)\n",
    "\n",
    "P_D[D_buses] = PD "
   ]
  },
  {
   "cell_type": "markdown",
   "id": "ccd2aa12",
   "metadata": {},
   "source": [
    "## Generator Data"
   ]
  },
  {
   "cell_type": "code",
   "execution_count": 8,
   "id": "5270bb45",
   "metadata": {},
   "outputs": [
    {
     "data": {
      "text/html": [
       "<div>\n",
       "<style scoped>\n",
       "    .dataframe tbody tr th:only-of-type {\n",
       "        vertical-align: middle;\n",
       "    }\n",
       "\n",
       "    .dataframe tbody tr th {\n",
       "        vertical-align: top;\n",
       "    }\n",
       "\n",
       "    .dataframe thead th {\n",
       "        text-align: right;\n",
       "    }\n",
       "</style>\n",
       "<table border=\"1\" class=\"dataframe\">\n",
       "  <thead>\n",
       "    <tr style=\"text-align: right;\">\n",
       "      <th></th>\n",
       "      <th>bus</th>\n",
       "      <th>Pg</th>\n",
       "      <th>Qg</th>\n",
       "      <th>Qmax</th>\n",
       "      <th>Qmin</th>\n",
       "      <th>Vg</th>\n",
       "      <th>mBase</th>\n",
       "      <th>status</th>\n",
       "      <th>Pmax</th>\n",
       "      <th>Pmin</th>\n",
       "      <th>...</th>\n",
       "      <th>Pc2</th>\n",
       "      <th>Qc1min</th>\n",
       "      <th>Qc1max</th>\n",
       "      <th>Qc2min</th>\n",
       "      <th>Qc2max</th>\n",
       "      <th>ramp_agc</th>\n",
       "      <th>ramp_10</th>\n",
       "      <th>ramp_30</th>\n",
       "      <th>ramp_q</th>\n",
       "      <th>apf</th>\n",
       "    </tr>\n",
       "  </thead>\n",
       "  <tbody>\n",
       "    <tr>\n",
       "      <th>0</th>\n",
       "      <td>0</td>\n",
       "      <td>72.3</td>\n",
       "      <td>27.03</td>\n",
       "      <td>300</td>\n",
       "      <td>-300</td>\n",
       "      <td>1.040</td>\n",
       "      <td>100</td>\n",
       "      <td>1</td>\n",
       "      <td>250</td>\n",
       "      <td>10</td>\n",
       "      <td>...</td>\n",
       "      <td>0</td>\n",
       "      <td>0</td>\n",
       "      <td>0</td>\n",
       "      <td>0</td>\n",
       "      <td>0</td>\n",
       "      <td>0</td>\n",
       "      <td>0</td>\n",
       "      <td>0</td>\n",
       "      <td>0</td>\n",
       "      <td>0</td>\n",
       "    </tr>\n",
       "    <tr>\n",
       "      <th>1</th>\n",
       "      <td>1</td>\n",
       "      <td>163.0</td>\n",
       "      <td>6.54</td>\n",
       "      <td>300</td>\n",
       "      <td>-300</td>\n",
       "      <td>1.025</td>\n",
       "      <td>100</td>\n",
       "      <td>1</td>\n",
       "      <td>300</td>\n",
       "      <td>10</td>\n",
       "      <td>...</td>\n",
       "      <td>0</td>\n",
       "      <td>0</td>\n",
       "      <td>0</td>\n",
       "      <td>0</td>\n",
       "      <td>0</td>\n",
       "      <td>0</td>\n",
       "      <td>0</td>\n",
       "      <td>0</td>\n",
       "      <td>0</td>\n",
       "      <td>0</td>\n",
       "    </tr>\n",
       "    <tr>\n",
       "      <th>2</th>\n",
       "      <td>2</td>\n",
       "      <td>85.0</td>\n",
       "      <td>-10.95</td>\n",
       "      <td>300</td>\n",
       "      <td>-300</td>\n",
       "      <td>1.025</td>\n",
       "      <td>100</td>\n",
       "      <td>1</td>\n",
       "      <td>270</td>\n",
       "      <td>10</td>\n",
       "      <td>...</td>\n",
       "      <td>0</td>\n",
       "      <td>0</td>\n",
       "      <td>0</td>\n",
       "      <td>0</td>\n",
       "      <td>0</td>\n",
       "      <td>0</td>\n",
       "      <td>0</td>\n",
       "      <td>0</td>\n",
       "      <td>0</td>\n",
       "      <td>0</td>\n",
       "    </tr>\n",
       "  </tbody>\n",
       "</table>\n",
       "<p>3 rows × 21 columns</p>\n",
       "</div>"
      ],
      "text/plain": [
       "   bus     Pg     Qg  Qmax  Qmin     Vg  mBase  status  Pmax  Pmin  ...  Pc2  \\\n",
       "0    0   72.3  27.03   300  -300  1.040    100       1   250    10  ...    0   \n",
       "1    1  163.0   6.54   300  -300  1.025    100       1   300    10  ...    0   \n",
       "2    2   85.0 -10.95   300  -300  1.025    100       1   270    10  ...    0   \n",
       "\n",
       "   Qc1min  Qc1max  Qc2min  Qc2max  ramp_agc  ramp_10  ramp_30  ramp_q  apf  \n",
       "0       0       0       0       0         0        0        0       0    0  \n",
       "1       0       0       0       0         0        0        0       0    0  \n",
       "2       0       0       0       0         0        0        0       0    0  \n",
       "\n",
       "[3 rows x 21 columns]"
      ]
     },
     "execution_count": 8,
     "metadata": {},
     "output_type": "execute_result"
    }
   ],
   "source": [
    "# load generator data\n",
    "\n",
    "gen = pd.read_excel(filename,sheet_name=\"Gen\")\n",
    "\n",
    "gen.head()"
   ]
  },
  {
   "cell_type": "code",
   "execution_count": 9,
   "id": "aa430bfc",
   "metadata": {},
   "outputs": [],
   "source": [
    "# Generator Nodes\n",
    "\n",
    "G_buses = gen[\"bus\"]"
   ]
  },
  {
   "cell_type": "code",
   "execution_count": 10,
   "id": "ab5f1755",
   "metadata": {},
   "outputs": [],
   "source": [
    "#stores generator values from neural network in appropriate node positions\n",
    "\n",
    "P_G = np.zeros(n)\n",
    "\n",
    "P_G[G_buses] = PG "
   ]
  },
  {
   "cell_type": "code",
   "execution_count": 11,
   "id": "71b9fb4c",
   "metadata": {},
   "outputs": [],
   "source": [
    "# store the maximum and minimum power vectors \n",
    "\n",
    "P_G_max = np.zeros(n)\n",
    "P_G_max[gen[\"bus\"]] = gen[\"Pmax\"]\n",
    "\n",
    "P_G_min = np.zeros(n)\n",
    "P_G_min[gen[\"bus\"]] = gen[\"Pmin\"]"
   ]
  },
  {
   "cell_type": "markdown",
   "id": "0821cee3",
   "metadata": {},
   "source": [
    "## Branch Data"
   ]
  },
  {
   "cell_type": "code",
   "execution_count": 12,
   "id": "ea8e12eb",
   "metadata": {},
   "outputs": [
    {
     "data": {
      "text/html": [
       "<div>\n",
       "<style scoped>\n",
       "    .dataframe tbody tr th:only-of-type {\n",
       "        vertical-align: middle;\n",
       "    }\n",
       "\n",
       "    .dataframe tbody tr th {\n",
       "        vertical-align: top;\n",
       "    }\n",
       "\n",
       "    .dataframe thead th {\n",
       "        text-align: right;\n",
       "    }\n",
       "</style>\n",
       "<table border=\"1\" class=\"dataframe\">\n",
       "  <thead>\n",
       "    <tr style=\"text-align: right;\">\n",
       "      <th></th>\n",
       "      <th>fbus</th>\n",
       "      <th>tbus</th>\n",
       "      <th>r</th>\n",
       "      <th>x</th>\n",
       "      <th>b</th>\n",
       "      <th>rateA</th>\n",
       "      <th>rateB</th>\n",
       "      <th>rateC</th>\n",
       "      <th>ratio</th>\n",
       "      <th>angle</th>\n",
       "      <th>status</th>\n",
       "      <th>angmin</th>\n",
       "      <th>angmax</th>\n",
       "    </tr>\n",
       "  </thead>\n",
       "  <tbody>\n",
       "    <tr>\n",
       "      <th>0</th>\n",
       "      <td>0</td>\n",
       "      <td>3</td>\n",
       "      <td>0.0000</td>\n",
       "      <td>0.0576</td>\n",
       "      <td>0.000</td>\n",
       "      <td>250</td>\n",
       "      <td>250</td>\n",
       "      <td>250</td>\n",
       "      <td>0</td>\n",
       "      <td>0</td>\n",
       "      <td>1</td>\n",
       "      <td>-360</td>\n",
       "      <td>360</td>\n",
       "    </tr>\n",
       "    <tr>\n",
       "      <th>1</th>\n",
       "      <td>3</td>\n",
       "      <td>4</td>\n",
       "      <td>0.0170</td>\n",
       "      <td>0.0920</td>\n",
       "      <td>0.158</td>\n",
       "      <td>250</td>\n",
       "      <td>250</td>\n",
       "      <td>250</td>\n",
       "      <td>0</td>\n",
       "      <td>0</td>\n",
       "      <td>1</td>\n",
       "      <td>-360</td>\n",
       "      <td>360</td>\n",
       "    </tr>\n",
       "    <tr>\n",
       "      <th>2</th>\n",
       "      <td>4</td>\n",
       "      <td>5</td>\n",
       "      <td>0.0390</td>\n",
       "      <td>0.1700</td>\n",
       "      <td>0.358</td>\n",
       "      <td>150</td>\n",
       "      <td>150</td>\n",
       "      <td>150</td>\n",
       "      <td>0</td>\n",
       "      <td>0</td>\n",
       "      <td>1</td>\n",
       "      <td>-360</td>\n",
       "      <td>360</td>\n",
       "    </tr>\n",
       "    <tr>\n",
       "      <th>3</th>\n",
       "      <td>2</td>\n",
       "      <td>5</td>\n",
       "      <td>0.0000</td>\n",
       "      <td>0.0586</td>\n",
       "      <td>0.000</td>\n",
       "      <td>300</td>\n",
       "      <td>300</td>\n",
       "      <td>300</td>\n",
       "      <td>0</td>\n",
       "      <td>0</td>\n",
       "      <td>1</td>\n",
       "      <td>-360</td>\n",
       "      <td>360</td>\n",
       "    </tr>\n",
       "    <tr>\n",
       "      <th>4</th>\n",
       "      <td>5</td>\n",
       "      <td>6</td>\n",
       "      <td>0.0119</td>\n",
       "      <td>0.1008</td>\n",
       "      <td>0.209</td>\n",
       "      <td>150</td>\n",
       "      <td>150</td>\n",
       "      <td>150</td>\n",
       "      <td>0</td>\n",
       "      <td>0</td>\n",
       "      <td>1</td>\n",
       "      <td>-360</td>\n",
       "      <td>360</td>\n",
       "    </tr>\n",
       "    <tr>\n",
       "      <th>5</th>\n",
       "      <td>6</td>\n",
       "      <td>7</td>\n",
       "      <td>0.0085</td>\n",
       "      <td>0.0720</td>\n",
       "      <td>0.149</td>\n",
       "      <td>250</td>\n",
       "      <td>250</td>\n",
       "      <td>250</td>\n",
       "      <td>0</td>\n",
       "      <td>0</td>\n",
       "      <td>1</td>\n",
       "      <td>-360</td>\n",
       "      <td>360</td>\n",
       "    </tr>\n",
       "    <tr>\n",
       "      <th>6</th>\n",
       "      <td>7</td>\n",
       "      <td>1</td>\n",
       "      <td>0.0000</td>\n",
       "      <td>0.0625</td>\n",
       "      <td>0.000</td>\n",
       "      <td>250</td>\n",
       "      <td>250</td>\n",
       "      <td>250</td>\n",
       "      <td>0</td>\n",
       "      <td>0</td>\n",
       "      <td>1</td>\n",
       "      <td>-360</td>\n",
       "      <td>360</td>\n",
       "    </tr>\n",
       "    <tr>\n",
       "      <th>7</th>\n",
       "      <td>7</td>\n",
       "      <td>8</td>\n",
       "      <td>0.0320</td>\n",
       "      <td>0.1610</td>\n",
       "      <td>0.306</td>\n",
       "      <td>250</td>\n",
       "      <td>250</td>\n",
       "      <td>250</td>\n",
       "      <td>0</td>\n",
       "      <td>0</td>\n",
       "      <td>1</td>\n",
       "      <td>-360</td>\n",
       "      <td>360</td>\n",
       "    </tr>\n",
       "    <tr>\n",
       "      <th>8</th>\n",
       "      <td>8</td>\n",
       "      <td>3</td>\n",
       "      <td>0.0100</td>\n",
       "      <td>0.0850</td>\n",
       "      <td>0.176</td>\n",
       "      <td>250</td>\n",
       "      <td>250</td>\n",
       "      <td>250</td>\n",
       "      <td>0</td>\n",
       "      <td>0</td>\n",
       "      <td>1</td>\n",
       "      <td>-360</td>\n",
       "      <td>360</td>\n",
       "    </tr>\n",
       "  </tbody>\n",
       "</table>\n",
       "</div>"
      ],
      "text/plain": [
       "   fbus  tbus       r       x      b  rateA  rateB  rateC  ratio  angle  \\\n",
       "0     0     3  0.0000  0.0576  0.000    250    250    250      0      0   \n",
       "1     3     4  0.0170  0.0920  0.158    250    250    250      0      0   \n",
       "2     4     5  0.0390  0.1700  0.358    150    150    150      0      0   \n",
       "3     2     5  0.0000  0.0586  0.000    300    300    300      0      0   \n",
       "4     5     6  0.0119  0.1008  0.209    150    150    150      0      0   \n",
       "5     6     7  0.0085  0.0720  0.149    250    250    250      0      0   \n",
       "6     7     1  0.0000  0.0625  0.000    250    250    250      0      0   \n",
       "7     7     8  0.0320  0.1610  0.306    250    250    250      0      0   \n",
       "8     8     3  0.0100  0.0850  0.176    250    250    250      0      0   \n",
       "\n",
       "   status  angmin  angmax  \n",
       "0       1    -360     360  \n",
       "1       1    -360     360  \n",
       "2       1    -360     360  \n",
       "3       1    -360     360  \n",
       "4       1    -360     360  \n",
       "5       1    -360     360  \n",
       "6       1    -360     360  \n",
       "7       1    -360     360  \n",
       "8       1    -360     360  "
      ]
     },
     "execution_count": 12,
     "metadata": {},
     "output_type": "execute_result"
    }
   ],
   "source": [
    "# load the branch data \n",
    "\n",
    "branch = pd.read_excel(filename,sheet_name=\"Branch\")\n",
    "\n",
    "branch.head(n)"
   ]
  },
  {
   "cell_type": "code",
   "execution_count": 13,
   "id": "da1fa99e",
   "metadata": {},
   "outputs": [],
   "source": [
    "# define line-related vectors \n",
    "\n",
    "P_flow = branch[\"rateA\"]\n",
    "reactance = branch[\"x\"]\n",
    "\n",
    "admittance = 1 / reactance\n",
    "\n",
    "line_from = branch[\"fbus\"].tolist()\n",
    "line_to = branch[\"tbus\"].tolist()\n",
    "\n",
    "L = len(P_flow) # number of lines "
   ]
  },
  {
   "cell_type": "code",
   "execution_count": 14,
   "id": "5e00f99e",
   "metadata": {},
   "outputs": [],
   "source": [
    "# construct the bus-admittance matrix\n",
    "\n",
    "B = np.zeros([n,n])\n",
    "\n",
    "\n",
    "for line in range(L):\n",
    "    \n",
    "    i = line_from[line] \n",
    "    j = line_to[line] \n",
    "    \n",
    "    B[i][j] = - admittance[line]\n",
    "    B[j][i] = - admittance[line]\n",
    "\n",
    "    \n",
    "for node in nodes:\n",
    "    \n",
    "    B[node][node] = - (sum (B[node][j] for j in nodes))"
   ]
  },
  {
   "cell_type": "markdown",
   "id": "34ac0318",
   "metadata": {},
   "source": [
    "## p.u. Conversion"
   ]
  },
  {
   "cell_type": "code",
   "execution_count": 15,
   "id": "7344c7da",
   "metadata": {},
   "outputs": [],
   "source": [
    "# convert all vectors to per unit at 100 MVA base\n",
    "\n",
    "base = pd.read_excel(filename,sheet_name=\"Base\")\n",
    "Base = base[\"Base\"][0]\n",
    "\n",
    "P_G = P_G / Base\n",
    "P_G_min = P_G_min / Base\n",
    "P_G_max = P_G_max / Base\n",
    "P_D = P_D / Base\n",
    "P_flow = P_flow / Base"
   ]
  },
  {
   "cell_type": "markdown",
   "id": "5a543a05",
   "metadata": {},
   "source": [
    "# Solve the Problem"
   ]
  },
  {
   "cell_type": "code",
   "execution_count": 16,
   "id": "5cc591e1",
   "metadata": {},
   "outputs": [],
   "source": [
    "# create the optimization problem with the decision variables \n",
    "\n",
    "m = pl.LpProblem('Projection_Scheme', pl.LpMinimize)\n",
    "\n",
    "x = pl.LpVariable.dicts(name=\"PG_Projected\", indices=nodes,cat='Continuous')\n",
    "theta = pl.LpVariable.dicts(name=\"Phase_Angle\", indices=nodes,cat='Continuous')\n",
    "\n",
    "U = pl.LpVariable.dicts(name=\"U\", indices=nodes, cat='Continuous')"
   ]
  },
  {
   "cell_type": "code",
   "execution_count": 17,
   "id": "d54074bc",
   "metadata": {},
   "outputs": [],
   "source": [
    "# objective function\n",
    "\n",
    "m += ( pl.lpSum([U[i] for i in nodes]), 'L1 Norm') ;"
   ]
  },
  {
   "cell_type": "code",
   "execution_count": 18,
   "id": "602e3779",
   "metadata": {},
   "outputs": [],
   "source": [
    "# absolute value constraints\n",
    "\n",
    "for i in nodes:\n",
    "    m += x[i] - P_G[i] <= U[i]\n",
    "    m += x[i] - P_G[i] >= - U[i]"
   ]
  },
  {
   "cell_type": "code",
   "execution_count": 19,
   "id": "ef939135",
   "metadata": {},
   "outputs": [],
   "source": [
    "# generation limits constraints \n",
    "\n",
    "for i in nodes:\n",
    "    m += x[i] <= P_G_max[i]\n",
    "    m += x[i] >= P_G_min[i]"
   ]
  },
  {
   "cell_type": "code",
   "execution_count": 20,
   "id": "d9db6251",
   "metadata": {},
   "outputs": [],
   "source": [
    "# line flow constraints\n",
    "\n",
    "for line in range(L):\n",
    "    \n",
    "    bound = reactance[line] * P_flow[line]\n",
    "    i = line_from[line] \n",
    "    j = line_to[line] \n",
    "    \n",
    "    m += theta[i] - theta[j] <= bound\n",
    "    m += theta[i] - theta[j] >= - bound"
   ]
  },
  {
   "cell_type": "code",
   "execution_count": 21,
   "id": "89602139",
   "metadata": {},
   "outputs": [],
   "source": [
    "# power balance constraints\n",
    "\n",
    "for i in nodes:\n",
    "    m  +=  x[i] - P_D[i] == pl.lpSum(B[i][j]*theta[j] for j in nodes) "
   ]
  },
  {
   "cell_type": "code",
   "execution_count": 22,
   "id": "e116f0a7",
   "metadata": {},
   "outputs": [],
   "source": [
    "# reference phase angle\n",
    "\n",
    "m += theta[0] == 0"
   ]
  },
  {
   "cell_type": "code",
   "execution_count": 23,
   "id": "732f1483",
   "metadata": {},
   "outputs": [
    {
     "data": {
      "text/plain": [
       "'Optimal'"
      ]
     },
     "execution_count": 23,
     "metadata": {},
     "output_type": "execute_result"
    }
   ],
   "source": [
    "# solve\n",
    "\n",
    "status = m.solve()\n",
    "pl.LpStatus[status]"
   ]
  },
  {
   "cell_type": "markdown",
   "id": "e3f4773a",
   "metadata": {},
   "source": [
    "# Store Results"
   ]
  },
  {
   "cell_type": "code",
   "execution_count": 24,
   "id": "e5b3b96a",
   "metadata": {},
   "outputs": [],
   "source": [
    "# display the results\n",
    "\n",
    "theta_vector = np.zeros(n)\n",
    "generation_vector = np.zeros(n)\n",
    "\n",
    "for variable in m.variables():\n",
    "    \n",
    "    name_components = variable.name.split(\"_\")\n",
    "    index = int(name_components[-1])\n",
    "    value = variable.varValue\n",
    "    \n",
    "    if name_components[0] == \"Phase\":\n",
    "        theta_vector[index] = value \n",
    "    \n",
    "    elif name_components[0] == \"PG\":\n",
    "        generation_vector[index] = value "
   ]
  },
  {
   "cell_type": "code",
   "execution_count": 25,
   "id": "79d8b306",
   "metadata": {
    "scrolled": true
   },
   "outputs": [
    {
     "name": "stdout",
     "output_type": "stream",
     "text": [
      "Node 1: 86.56  ->  86.56\n",
      "Node 2: 268.76  ->  218.44\n",
      "Node 3: 94.06  ->  10.0\n"
     ]
    }
   ],
   "source": [
    "# compare generation vectors:\n",
    "\n",
    "for node in nodes:\n",
    "    \n",
    "    original = P_G[node] * Base\n",
    "    projected = generation_vector[node] * Base\n",
    "    \n",
    "    if projected!=0:\n",
    "        print(\"Node \"+str(node+1)+\":\",np.round(original,2),\" -> \", np.round(projected,2))"
   ]
  },
  {
   "cell_type": "code",
   "execution_count": 26,
   "id": "c18edb69",
   "metadata": {},
   "outputs": [
    {
     "name": "stdout",
     "output_type": "stream",
     "text": [
      "0.87 2.5\n",
      "0.55 2.5\n",
      "-0.35 1.5\n",
      "0.1 3.0\n",
      "-0.25 1.5\n",
      "-1.25 2.5\n",
      "-2.18 2.5\n",
      "0.94 2.5\n",
      "-0.31 2.5\n"
     ]
    }
   ],
   "source": [
    "# compute line flow in every line\n",
    "\n",
    "power_flow = np.zeros(L)\n",
    "\n",
    "for line in range(L):\n",
    "    \n",
    "    i = line_from[line] \n",
    "    j = line_to[line] \n",
    "    \n",
    "    power_flow[line] = (theta_vector[i] - theta_vector[j]) / reactance[line]\n",
    "    \n",
    "    print(np.round(power_flow[line],2),P_flow[line])"
   ]
  },
  {
   "cell_type": "code",
   "execution_count": 27,
   "id": "dcbf97fe",
   "metadata": {},
   "outputs": [
    {
     "name": "stdout",
     "output_type": "stream",
     "text": [
      "0.0\n",
      "12.06\n",
      "-2.02\n",
      "-2.86\n",
      "-5.76\n",
      "-2.36\n",
      "-0.92\n",
      "4.24\n",
      "-4.39\n"
     ]
    }
   ],
   "source": [
    "for node in nodes:\n",
    "    print(np.round(theta_vector[node]*180/np.pi,2))"
   ]
  }
 ],
 "metadata": {
  "kernelspec": {
   "display_name": "Python 3",
   "language": "python",
   "name": "python3"
  },
  "language_info": {
   "codemirror_mode": {
    "name": "ipython",
    "version": 3
   },
   "file_extension": ".py",
   "mimetype": "text/x-python",
   "name": "python",
   "nbconvert_exporter": "python",
   "pygments_lexer": "ipython3",
   "version": "3.7.4"
  }
 },
 "nbformat": 4,
 "nbformat_minor": 5
}
